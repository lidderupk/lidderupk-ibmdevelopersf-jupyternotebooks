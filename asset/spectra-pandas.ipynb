{
 "cells": [
  {
   "cell_type": "markdown",
   "metadata": {},
   "source": [
    "## Some Python if you need a quick refresher"
   ]
  },
  {
   "cell_type": "markdown",
   "metadata": {},
   "source": [
    "Let's look at some basic data structures in Python\n",
    "\n",
    "   - str (string)\n",
    "   - List (mutable, order maintained)\n",
    "   - Tuple (immutable)\n",
    "   - Set (unordered, unique)\n",
    "   - Dictionary (mutable, key-value pairs)\n",
    "\n",
    "    \n"
   ]
  },
  {
   "cell_type": "code",
   "execution_count": 59,
   "metadata": {},
   "outputs": [
    {
     "name": "stdout",
     "output_type": "stream",
     "text": [
      "length of the string: 7\n",
      "first character of the string: s\n",
      "last character of the string: a\n",
      "capitalize string:  Spectra\n",
      "uppper case string:  SPECTRA\n",
      "find tra in the string:  4\n"
     ]
    }
   ],
   "source": [
    "#this is a string (str)\n",
    "hackathon = \"spectra\"\n",
    "print('length of the string:', len(hackathon))\n",
    "print('first character of the string:', hackathon[0])\n",
    "print('last character of the string:', hackathon[-1])\n",
    "print('capitalize string: ', hackathon.capitalize())\n",
    "print('uppper case string: ', hackathon.upper())\n",
    "print('find tra in the string: ', hackathon.find('tra')) #start counting from 0\n",
    "#Many more methods available. Read the docs - https://docs.python.org/3/library/stdtypes.html#string-methods"
   ]
  },
  {
   "cell_type": "code",
   "execution_count": 60,
   "metadata": {},
   "outputs": [
    {
     "name": "stdout",
     "output_type": "stream",
     "text": [
      "number of states: 9\n",
      "first state:  Alabama\n",
      "last state:  Florida\n",
      "list contains California? True\n",
      "where is California in the list? 4\n",
      "list first three states: ['Alabama', 'Alaska', 'Arizona']\n",
      "list last three states: ['Connecticut', 'Delaware', 'Florida']\n",
      "filter list to only states starting with C: ['California', 'Colorado', 'Connecticut']\n",
      "filter list to only states starting with C: ['California', 'Colorado', 'Connecticut']\n"
     ]
    }
   ],
   "source": [
    "#this is a list\n",
    "states = [\"Alabama\", \"Alaska\", \"Arizona\", \"Arkansas\", \"California\", \"Colorado\", \"Connecticut\", \"Delaware\", \"Florida\"]\n",
    "print('number of states:', len(states))\n",
    "print('first state: ', states[0])\n",
    "print('last state: ', states[-1])\n",
    "print('list contains California?', 'California' in states)\n",
    "print('where is California in the list?', states.index('California'))\n",
    "print('list first three states:', states[:3])\n",
    "print('list last three states:', states[-3:])\n",
    "\n",
    "#more advanced\n",
    "print('filter list to only states starting with C:', list(filter(lambda x: x.startswith('C'),states)))\n",
    "print('filter list to only states starting with C:', [state for state in states if state.startswith('C')])\n",
    "#Many more methods available. Read the docs - https://docs.python.org/3/tutorial/datastructures.html"
   ]
  },
  {
   "cell_type": "code",
   "execution_count": 61,
   "metadata": {},
   "outputs": [
    {
     "name": "stdout",
     "output_type": "stream",
     "text": [
      "keys in states: dict_keys(['AL', 'AK', 'AZ', 'AR', 'CA', 'CO', 'CT', 'DE', 'FL'])\n",
      "values in states: dict_values(['Alabama', 'Alaska', 'Arizona', 'Arkansas', 'California', 'Colorado', 'Connecticut', 'Delaware', 'Florida'])\n",
      "# states in dict: 9\n",
      "find ca: California\n",
      "is FL in the list: True\n",
      "is Florida in the list:  True\n"
     ]
    }
   ],
   "source": [
    "#this is a dictionary. They are unordered, so first and last makes little sense\n",
    "states = {\n",
    "'AL': 'Alabama',\n",
    "'AK': 'Alaska',\n",
    "'AZ': 'Arizona',\n",
    "'AR': 'Arkansas',\n",
    "'CA' : 'California',\n",
    "'CO': 'Colorado',\n",
    "'CT': 'Connecticut',\n",
    "'DE': 'Delaware',\n",
    "'FL': 'Florida'\n",
    "}\n",
    "print('keys in states:', states.keys())\n",
    "print('values in states:', states.values())\n",
    "print('# states in dict:', len(states))\n",
    "print('find ca:', states['CA'])\n",
    "print('is FL in the list:', 'FL' in states)\n",
    "print('is Florida in the list: ', 'Florida' in states.values())\n",
    "#Many more methods available. Read the docs - https://docs.python.org/3.6/tutorial/datastructures.html#dictionaries"
   ]
  },
  {
   "cell_type": "markdown",
   "metadata": {},
   "source": [
    "## Data structures in Pandas - Series"
   ]
  },
  {
   "cell_type": "code",
   "execution_count": 62,
   "metadata": {},
   "outputs": [
    {
     "data": {
      "text/plain": [
       "0        Alabama\n",
       "1         Alaska\n",
       "2        Arizona\n",
       "3       Arkansas\n",
       "4     California\n",
       "5       Colorado\n",
       "6    Connecticut\n",
       "7       Delaware\n",
       "8        Florida\n",
       "dtype: object"
      ]
     },
     "execution_count": 62,
     "metadata": {},
     "output_type": "execute_result"
    }
   ],
   "source": [
    "#This is a series. Think of this as a list with an index!\n",
    "states = pd.Series([\"Alabama\", \"Alaska\", \"Arizona\", \"Arkansas\", \"California\", \"Colorado\", \"Connecticut\", \"Delaware\", \"Florida\"])\n",
    "states"
   ]
  },
  {
   "cell_type": "code",
   "execution_count": 63,
   "metadata": {},
   "outputs": [
    {
     "data": {
      "text/plain": [
       "AL        Alabama\n",
       "AK         Alaska\n",
       "AZ        Arizona\n",
       "AR       Arkansas\n",
       "CA     California\n",
       "CO       Colorado\n",
       "CT    Connecticut\n",
       "DE       Delaware\n",
       "FL        Florida\n",
       "dtype: object"
      ]
     },
     "execution_count": 63,
     "metadata": {},
     "output_type": "execute_result"
    }
   ],
   "source": [
    "#you can give the data your own index!\n",
    "states = [\"Alabama\", \"Alaska\", \"Arizona\", \"Arkansas\", \"California\", \"Colorado\", \"Connecticut\", \"Delaware\", \"Florida\"]\n",
    "abb = ['AL','AK','AZ','AR','CA','CO','CT','DE','FL']\n",
    "states = pd.Series(data=states, index=abb)\n",
    "states\n"
   ]
  },
  {
   "cell_type": "code",
   "execution_count": 77,
   "metadata": {},
   "outputs": [
    {
     "name": "stdout",
     "output_type": "stream",
     "text": [
      "first state: Alabama\n",
      "first index: AL\n",
      "\n",
      "\n",
      "\n",
      "first three states:\n",
      "AL    Alabama\n",
      "AK     Alaska\n",
      "AZ    Arizona\n",
      "dtype: object\n",
      "\n",
      "\n",
      "\n",
      "last three states:\n",
      "CT    Connecticut\n",
      "DE       Delaware\n",
      "FL        Florida\n",
      "dtype: object\n"
     ]
    }
   ],
   "source": [
    "#slice and dice\n",
    "print('first state:', states[0])\n",
    "print('first index:', states.index[0])\n",
    "print('\\n\\n')\n",
    "print('first three states:')\n",
    "print(states[0:3])\n",
    "print('\\n\\n')\n",
    "print('last three states:')\n",
    "print(states[-3:])"
   ]
  },
  {
   "cell_type": "code",
   "execution_count": 79,
   "metadata": {},
   "outputs": [
    {
     "data": {
      "text/plain": [
       "0      0\n",
       "1      1\n",
       "2     16\n",
       "3     81\n",
       "4    256\n",
       "5    625\n",
       "dtype: int64"
      ]
     },
     "execution_count": 79,
     "metadata": {},
     "output_type": "execute_result"
    }
   ],
   "source": [
    "#you can create series out of comprehensions and anything else that returns an iterable\n",
    "fours = pd.Series([x**4 for x in range(6)])\n",
    "fours"
   ]
  },
  {
   "cell_type": "code",
   "execution_count": 89,
   "metadata": {},
   "outputs": [
    {
     "data": {
      "text/plain": [
       "0    0.028778\n",
       "1    0.082763\n",
       "2    0.221035\n",
       "3    0.956849\n",
       "4    0.146512\n",
       "dtype: float64"
      ]
     },
     "execution_count": 89,
     "metadata": {},
     "output_type": "execute_result"
    }
   ],
   "source": [
    "#numpy has a wonderful random number generator that is useful in creating dummy data. Returns np.array\n",
    "rand = pd.Series(np.random.rand(5))\n",
    "rand\n"
   ]
  },
  {
   "cell_type": "markdown",
   "metadata": {},
   "source": [
    "## Data structures in Pandas - Dataframes"
   ]
  },
  {
   "cell_type": "code",
   "execution_count": 93,
   "metadata": {},
   "outputs": [
    {
     "data": {
      "text/html": [
       "<div>\n",
       "<style scoped>\n",
       "    .dataframe tbody tr th:only-of-type {\n",
       "        vertical-align: middle;\n",
       "    }\n",
       "\n",
       "    .dataframe tbody tr th {\n",
       "        vertical-align: top;\n",
       "    }\n",
       "\n",
       "    .dataframe thead th {\n",
       "        text-align: right;\n",
       "    }\n",
       "</style>\n",
       "<table border=\"1\" class=\"dataframe\">\n",
       "  <thead>\n",
       "    <tr style=\"text-align: right;\">\n",
       "      <th></th>\n",
       "      <th>abb</th>\n",
       "      <th>name</th>\n",
       "      <th>temp</th>\n",
       "    </tr>\n",
       "  </thead>\n",
       "  <tbody>\n",
       "    <tr>\n",
       "      <th>0</th>\n",
       "      <td>AL</td>\n",
       "      <td>Alabama</td>\n",
       "      <td>0.632735</td>\n",
       "    </tr>\n",
       "    <tr>\n",
       "      <th>1</th>\n",
       "      <td>AK</td>\n",
       "      <td>Alaska</td>\n",
       "      <td>0.699852</td>\n",
       "    </tr>\n",
       "    <tr>\n",
       "      <th>2</th>\n",
       "      <td>AZ</td>\n",
       "      <td>Arizona</td>\n",
       "      <td>0.622987</td>\n",
       "    </tr>\n",
       "    <tr>\n",
       "      <th>3</th>\n",
       "      <td>AR</td>\n",
       "      <td>Arkansas</td>\n",
       "      <td>0.852903</td>\n",
       "    </tr>\n",
       "    <tr>\n",
       "      <th>4</th>\n",
       "      <td>CA</td>\n",
       "      <td>California</td>\n",
       "      <td>0.415096</td>\n",
       "    </tr>\n",
       "    <tr>\n",
       "      <th>5</th>\n",
       "      <td>CO</td>\n",
       "      <td>Colorado</td>\n",
       "      <td>0.530582</td>\n",
       "    </tr>\n",
       "    <tr>\n",
       "      <th>6</th>\n",
       "      <td>CT</td>\n",
       "      <td>Connecticut</td>\n",
       "      <td>0.910025</td>\n",
       "    </tr>\n",
       "    <tr>\n",
       "      <th>7</th>\n",
       "      <td>DE</td>\n",
       "      <td>Delaware</td>\n",
       "      <td>0.769109</td>\n",
       "    </tr>\n",
       "    <tr>\n",
       "      <th>8</th>\n",
       "      <td>FL</td>\n",
       "      <td>Florida</td>\n",
       "      <td>0.614724</td>\n",
       "    </tr>\n",
       "  </tbody>\n",
       "</table>\n",
       "</div>"
      ],
      "text/plain": [
       "  abb         name      temp\n",
       "0  AL      Alabama  0.632735\n",
       "1  AK       Alaska  0.699852\n",
       "2  AZ      Arizona  0.622987\n",
       "3  AR     Arkansas  0.852903\n",
       "4  CA   California  0.415096\n",
       "5  CO     Colorado  0.530582\n",
       "6  CT  Connecticut  0.910025\n",
       "7  DE     Delaware  0.769109\n",
       "8  FL      Florida  0.614724"
      ]
     },
     "execution_count": 93,
     "metadata": {},
     "output_type": "execute_result"
    }
   ],
   "source": [
    "#dataframe is a like a table\n",
    "state_data = {\n",
    "    'abb':['AL','AK','AZ','AR','CA','CO','CT','DE','FL'],\n",
    "    'name':[\"Alabama\", \"Alaska\", \"Arizona\", \"Arkansas\", \"California\", \"Colorado\", \"Connecticut\", \"Delaware\", \"Florida\"],\n",
    "    'temp': np.random.rand(9)\n",
    "}\n",
    "df_state = pd.DataFrame(state_data)\n",
    "df_state"
   ]
  },
  {
   "cell_type": "code",
   "execution_count": 100,
   "metadata": {},
   "outputs": [
    {
     "data": {
      "text/html": [
       "<div>\n",
       "<style scoped>\n",
       "    .dataframe tbody tr th:only-of-type {\n",
       "        vertical-align: middle;\n",
       "    }\n",
       "\n",
       "    .dataframe tbody tr th {\n",
       "        vertical-align: top;\n",
       "    }\n",
       "\n",
       "    .dataframe thead th {\n",
       "        text-align: right;\n",
       "    }\n",
       "</style>\n",
       "<table border=\"1\" class=\"dataframe\">\n",
       "  <thead>\n",
       "    <tr style=\"text-align: right;\">\n",
       "      <th></th>\n",
       "      <th>Temp</th>\n",
       "      <th>Humidity</th>\n",
       "    </tr>\n",
       "  </thead>\n",
       "  <tbody>\n",
       "    <tr>\n",
       "      <th>0</th>\n",
       "      <td>1.815043</td>\n",
       "      <td>0.137917</td>\n",
       "    </tr>\n",
       "    <tr>\n",
       "      <th>1</th>\n",
       "      <td>1.586126</td>\n",
       "      <td>-0.788654</td>\n",
       "    </tr>\n",
       "  </tbody>\n",
       "</table>\n",
       "</div>"
      ],
      "text/plain": [
       "       Temp  Humidity\n",
       "0  1.815043  0.137917\n",
       "1  1.586126 -0.788654"
      ]
     },
     "execution_count": 100,
     "metadata": {},
     "output_type": "execute_result"
    }
   ],
   "source": [
    "df = pd.DataFrame(data = np.random.randn(2,2), columns=['Temp', 'Humidity'])\n",
    "df"
   ]
  },
  {
   "cell_type": "code",
   "execution_count": 101,
   "metadata": {},
   "outputs": [
    {
     "data": {
      "text/html": [
       "<div>\n",
       "<style scoped>\n",
       "    .dataframe tbody tr th:only-of-type {\n",
       "        vertical-align: middle;\n",
       "    }\n",
       "\n",
       "    .dataframe tbody tr th {\n",
       "        vertical-align: top;\n",
       "    }\n",
       "\n",
       "    .dataframe thead th {\n",
       "        text-align: right;\n",
       "    }\n",
       "</style>\n",
       "<table border=\"1\" class=\"dataframe\">\n",
       "  <thead>\n",
       "    <tr style=\"text-align: right;\">\n",
       "      <th></th>\n",
       "      <th>Temp</th>\n",
       "      <th>Humidity</th>\n",
       "    </tr>\n",
       "  </thead>\n",
       "  <tbody>\n",
       "    <tr>\n",
       "      <th>0</th>\n",
       "      <td>18.150432</td>\n",
       "      <td>1.379165</td>\n",
       "    </tr>\n",
       "    <tr>\n",
       "      <th>1</th>\n",
       "      <td>15.861262</td>\n",
       "      <td>-7.886544</td>\n",
       "    </tr>\n",
       "  </tbody>\n",
       "</table>\n",
       "</div>"
      ],
      "text/plain": [
       "        Temp  Humidity\n",
       "0  18.150432  1.379165\n",
       "1  15.861262 -7.886544"
      ]
     },
     "execution_count": 101,
     "metadata": {},
     "output_type": "execute_result"
    }
   ],
   "source": [
    "#the very cool thing about dataframes is that you can operate on them as a single unit. NO NEED TO ITERATE EXPLICITLY!\n",
    "df = df * 10\n",
    "df"
   ]
  },
  {
   "cell_type": "code",
   "execution_count": 108,
   "metadata": {},
   "outputs": [
    {
     "data": {
      "text/plain": [
       "\u001b[0;31mSignature:\u001b[0m \u001b[0mdf\u001b[0m\u001b[0;34m.\u001b[0m\u001b[0mapply\u001b[0m\u001b[0;34m(\u001b[0m\u001b[0mfunc\u001b[0m\u001b[0;34m,\u001b[0m \u001b[0maxis\u001b[0m\u001b[0;34m=\u001b[0m\u001b[0;36m0\u001b[0m\u001b[0;34m,\u001b[0m \u001b[0mbroadcast\u001b[0m\u001b[0;34m=\u001b[0m\u001b[0;32mNone\u001b[0m\u001b[0;34m,\u001b[0m \u001b[0mraw\u001b[0m\u001b[0;34m=\u001b[0m\u001b[0;32mFalse\u001b[0m\u001b[0;34m,\u001b[0m \u001b[0mreduce\u001b[0m\u001b[0;34m=\u001b[0m\u001b[0;32mNone\u001b[0m\u001b[0;34m,\u001b[0m \u001b[0mresult_type\u001b[0m\u001b[0;34m=\u001b[0m\u001b[0;32mNone\u001b[0m\u001b[0;34m,\u001b[0m \u001b[0margs\u001b[0m\u001b[0;34m=\u001b[0m\u001b[0;34m(\u001b[0m\u001b[0;34m)\u001b[0m\u001b[0;34m,\u001b[0m \u001b[0;34m**\u001b[0m\u001b[0mkwds\u001b[0m\u001b[0;34m)\u001b[0m\u001b[0;34m\u001b[0m\u001b[0;34m\u001b[0m\u001b[0m\n",
       "\u001b[0;31mDocstring:\u001b[0m\n",
       "Apply a function along an axis of the DataFrame.\n",
       "\n",
       "Objects passed to the function are Series objects whose index is\n",
       "either the DataFrame's index (``axis=0``) or the DataFrame's columns\n",
       "(``axis=1``). By default (``result_type=None``), the final return type\n",
       "is inferred from the return type of the applied function. Otherwise,\n",
       "it depends on the `result_type` argument.\n",
       "\n",
       "Parameters\n",
       "----------\n",
       "func : function\n",
       "    Function to apply to each column or row.\n",
       "axis : {0 or 'index', 1 or 'columns'}, default 0\n",
       "    Axis along which the function is applied:\n",
       "\n",
       "    * 0 or 'index': apply function to each column.\n",
       "    * 1 or 'columns': apply function to each row.\n",
       "broadcast : bool, optional\n",
       "    Only relevant for aggregation functions:\n",
       "\n",
       "    * ``False`` or ``None`` : returns a Series whose length is the\n",
       "      length of the index or the number of columns (based on the\n",
       "      `axis` parameter)\n",
       "    * ``True`` : results will be broadcast to the original shape\n",
       "      of the frame, the original index and columns will be retained.\n",
       "\n",
       "    .. deprecated:: 0.23.0\n",
       "       This argument will be removed in a future version, replaced\n",
       "       by result_type='broadcast'.\n",
       "\n",
       "raw : bool, default False\n",
       "    * ``False`` : passes each row or column as a Series to the\n",
       "      function.\n",
       "    * ``True`` : the passed function will receive ndarray objects\n",
       "      instead.\n",
       "      If you are just applying a NumPy reduction function this will\n",
       "      achieve much better performance.\n",
       "reduce : bool or None, default None\n",
       "    Try to apply reduction procedures. If the DataFrame is empty,\n",
       "    `apply` will use `reduce` to determine whether the result\n",
       "    should be a Series or a DataFrame. If ``reduce=None`` (the\n",
       "    default), `apply`'s return value will be guessed by calling\n",
       "    `func` on an empty Series\n",
       "    (note: while guessing, exceptions raised by `func` will be\n",
       "    ignored).\n",
       "    If ``reduce=True`` a Series will always be returned, and if\n",
       "    ``reduce=False`` a DataFrame will always be returned.\n",
       "\n",
       "    .. deprecated:: 0.23.0\n",
       "       This argument will be removed in a future version, replaced\n",
       "       by ``result_type='reduce'``.\n",
       "\n",
       "result_type : {'expand', 'reduce', 'broadcast', None}, default None\n",
       "    These only act when ``axis=1`` (columns):\n",
       "\n",
       "    * 'expand' : list-like results will be turned into columns.\n",
       "    * 'reduce' : returns a Series if possible rather than expanding\n",
       "      list-like results. This is the opposite of 'expand'.\n",
       "    * 'broadcast' : results will be broadcast to the original shape\n",
       "      of the DataFrame, the original index and columns will be\n",
       "      retained.\n",
       "\n",
       "    The default behaviour (None) depends on the return value of the\n",
       "    applied function: list-like results will be returned as a Series\n",
       "    of those. However if the apply function returns a Series these\n",
       "    are expanded to columns.\n",
       "\n",
       "    .. versionadded:: 0.23.0\n",
       "\n",
       "args : tuple\n",
       "    Positional arguments to pass to `func` in addition to the\n",
       "    array/series.\n",
       "**kwds\n",
       "    Additional keyword arguments to pass as keywords arguments to\n",
       "    `func`.\n",
       "\n",
       "Notes\n",
       "-----\n",
       "In the current implementation apply calls `func` twice on the\n",
       "first column/row to decide whether it can take a fast or slow\n",
       "code path. This can lead to unexpected behavior if `func` has\n",
       "side-effects, as they will take effect twice for the first\n",
       "column/row.\n",
       "\n",
       "See also\n",
       "--------\n",
       "DataFrame.applymap: For elementwise operations\n",
       "DataFrame.aggregate: only perform aggregating type operations\n",
       "DataFrame.transform: only perform transformating type operations\n",
       "\n",
       "Examples\n",
       "--------\n",
       "\n",
       ">>> df = pd.DataFrame([[4, 9],] * 3, columns=['A', 'B'])\n",
       ">>> df\n",
       "   A  B\n",
       "0  4  9\n",
       "1  4  9\n",
       "2  4  9\n",
       "\n",
       "Using a numpy universal function (in this case the same as\n",
       "``np.sqrt(df)``):\n",
       "\n",
       ">>> df.apply(np.sqrt)\n",
       "     A    B\n",
       "0  2.0  3.0\n",
       "1  2.0  3.0\n",
       "2  2.0  3.0\n",
       "\n",
       "Using a reducing function on either axis\n",
       "\n",
       ">>> df.apply(np.sum, axis=0)\n",
       "A    12\n",
       "B    27\n",
       "dtype: int64\n",
       "\n",
       ">>> df.apply(np.sum, axis=1)\n",
       "0    13\n",
       "1    13\n",
       "2    13\n",
       "dtype: int64\n",
       "\n",
       "Retuning a list-like will result in a Series\n",
       "\n",
       ">>> df.apply(lambda x: [1, 2], axis=1)\n",
       "0    [1, 2]\n",
       "1    [1, 2]\n",
       "2    [1, 2]\n",
       "dtype: object\n",
       "\n",
       "Passing result_type='expand' will expand list-like results\n",
       "to columns of a Dataframe\n",
       "\n",
       ">>> df.apply(lambda x: [1, 2], axis=1, result_type='expand')\n",
       "   0  1\n",
       "0  1  2\n",
       "1  1  2\n",
       "2  1  2\n",
       "\n",
       "Returning a Series inside the function is similar to passing\n",
       "``result_type='expand'``. The resulting column names\n",
       "will be the Series index.\n",
       "\n",
       ">>> df.apply(lambda x: pd.Series([1, 2], index=['foo', 'bar']), axis=1)\n",
       "   foo  bar\n",
       "0    1    2\n",
       "1    1    2\n",
       "2    1    2\n",
       "\n",
       "Passing ``result_type='broadcast'`` will ensure the same shape\n",
       "result, whether list-like or scalar is returned by the function,\n",
       "and broadcast it along the axis. The resulting column names will\n",
       "be the originals.\n",
       "\n",
       ">>> df.apply(lambda x: [1, 2], axis=1, result_type='broadcast')\n",
       "   A  B\n",
       "0  1  2\n",
       "1  1  2\n",
       "2  1  2\n",
       "\n",
       "Returns\n",
       "-------\n",
       "applied : Series or DataFrame\n",
       "\u001b[0;31mFile:\u001b[0m      /usr/local/lib/python3.7/site-packages/pandas/core/frame.py\n",
       "\u001b[0;31mType:\u001b[0m      method\n"
      ]
     },
     "metadata": {},
     "output_type": "display_data"
    }
   ],
   "source": [
    "#you can use apply method to perform a more complex operation. Run this cell to see how apply works! Essentially, it takes a function as an agurment to apply to every column\n",
    "?df.apply()"
   ]
  },
  {
   "cell_type": "code",
   "execution_count": 105,
   "metadata": {},
   "outputs": [],
   "source": [
    "def add100(x):\n",
    "    return x + 100"
   ]
  },
  {
   "cell_type": "code",
   "execution_count": 106,
   "metadata": {},
   "outputs": [
    {
     "data": {
      "text/html": [
       "<div>\n",
       "<style scoped>\n",
       "    .dataframe tbody tr th:only-of-type {\n",
       "        vertical-align: middle;\n",
       "    }\n",
       "\n",
       "    .dataframe tbody tr th {\n",
       "        vertical-align: top;\n",
       "    }\n",
       "\n",
       "    .dataframe thead th {\n",
       "        text-align: right;\n",
       "    }\n",
       "</style>\n",
       "<table border=\"1\" class=\"dataframe\">\n",
       "  <thead>\n",
       "    <tr style=\"text-align: right;\">\n",
       "      <th></th>\n",
       "      <th>Temp</th>\n",
       "      <th>Humidity</th>\n",
       "    </tr>\n",
       "  </thead>\n",
       "  <tbody>\n",
       "    <tr>\n",
       "      <th>0</th>\n",
       "      <td>118.150432</td>\n",
       "      <td>101.379165</td>\n",
       "    </tr>\n",
       "    <tr>\n",
       "      <th>1</th>\n",
       "      <td>115.861262</td>\n",
       "      <td>92.113456</td>\n",
       "    </tr>\n",
       "  </tbody>\n",
       "</table>\n",
       "</div>"
      ],
      "text/plain": [
       "         Temp    Humidity\n",
       "0  118.150432  101.379165\n",
       "1  115.861262   92.113456"
      ]
     },
     "execution_count": 106,
     "metadata": {},
     "output_type": "execute_result"
    }
   ],
   "source": [
    "#let's apply this function to \n",
    "df.apply(add100)"
   ]
  },
  {
   "cell_type": "code",
   "execution_count": 109,
   "metadata": {},
   "outputs": [
    {
     "data": {
      "text/html": [
       "<div>\n",
       "<style scoped>\n",
       "    .dataframe tbody tr th:only-of-type {\n",
       "        vertical-align: middle;\n",
       "    }\n",
       "\n",
       "    .dataframe tbody tr th {\n",
       "        vertical-align: top;\n",
       "    }\n",
       "\n",
       "    .dataframe thead th {\n",
       "        text-align: right;\n",
       "    }\n",
       "</style>\n",
       "<table border=\"1\" class=\"dataframe\">\n",
       "  <thead>\n",
       "    <tr style=\"text-align: right;\">\n",
       "      <th></th>\n",
       "      <th>Temp</th>\n",
       "      <th>Humidity</th>\n",
       "    </tr>\n",
       "  </thead>\n",
       "  <tbody>\n",
       "    <tr>\n",
       "      <th>0</th>\n",
       "      <td>18.150432</td>\n",
       "      <td>1.379165</td>\n",
       "    </tr>\n",
       "    <tr>\n",
       "      <th>1</th>\n",
       "      <td>15.861262</td>\n",
       "      <td>-7.886544</td>\n",
       "    </tr>\n",
       "  </tbody>\n",
       "</table>\n",
       "</div>"
      ],
      "text/plain": [
       "        Temp  Humidity\n",
       "0  18.150432  1.379165\n",
       "1  15.861262 -7.886544"
      ]
     },
     "execution_count": 109,
     "metadata": {},
     "output_type": "execute_result"
    }
   ],
   "source": [
    "#notice that the original dataframe does not change. This can get tricky. \n",
    "#If you want to change the df, assign it to itself. Or some methods have inplace=True parameters to force change inplace\n",
    "df"
   ]
  },
  {
   "cell_type": "code",
   "execution_count": 111,
   "metadata": {},
   "outputs": [
    {
     "data": {
      "text/html": [
       "<div>\n",
       "<style scoped>\n",
       "    .dataframe tbody tr th:only-of-type {\n",
       "        vertical-align: middle;\n",
       "    }\n",
       "\n",
       "    .dataframe tbody tr th {\n",
       "        vertical-align: top;\n",
       "    }\n",
       "\n",
       "    .dataframe thead th {\n",
       "        text-align: right;\n",
       "    }\n",
       "</style>\n",
       "<table border=\"1\" class=\"dataframe\">\n",
       "  <thead>\n",
       "    <tr style=\"text-align: right;\">\n",
       "      <th></th>\n",
       "      <th>Temp</th>\n",
       "      <th>Humidity</th>\n",
       "    </tr>\n",
       "  </thead>\n",
       "  <tbody>\n",
       "    <tr>\n",
       "      <th>0</th>\n",
       "      <td>118.150432</td>\n",
       "      <td>101.379165</td>\n",
       "    </tr>\n",
       "    <tr>\n",
       "      <th>1</th>\n",
       "      <td>115.861262</td>\n",
       "      <td>92.113456</td>\n",
       "    </tr>\n",
       "  </tbody>\n",
       "</table>\n",
       "</div>"
      ],
      "text/plain": [
       "         Temp    Humidity\n",
       "0  118.150432  101.379165\n",
       "1  115.861262   92.113456"
      ]
     },
     "execution_count": 111,
     "metadata": {},
     "output_type": "execute_result"
    }
   ],
   "source": [
    "#you can also use lambda or anonymous functions to do the same\n",
    "df.apply(lambda x: x+100)"
   ]
  },
  {
   "cell_type": "markdown",
   "metadata": {},
   "source": [
    "## Let's load in our data files!"
   ]
  },
  {
   "cell_type": "code",
   "execution_count": 112,
   "metadata": {},
   "outputs": [],
   "source": [
    "casts_url = \"https://ibm.box.com/shared/static/569iue5znz5angfxaaojbd7olgegk0bz.csv\"\n",
    "release_dates_url = \"https://ibm.box.com/shared/static/fxu6rhfktvjs0uvgtbhjsp5g5k9qgjh1.csv\"\n",
    "titles_url = \"https://ibm.box.com/shared/static/cw3wqtzuljiyqz4kbuk26ojrrm9rzfow.csv\"\n",
    "film_locations_url = \"https://ibm.box.com/shared/static/kcot1vu0r1tusff85m5shrr7ehsee8np.csv\""
   ]
  },
  {
   "cell_type": "code",
   "execution_count": null,
   "metadata": {},
   "outputs": [],
   "source": [
    "casts = pd.read_csv(casts_url)"
   ]
  },
  {
   "cell_type": "code",
   "execution_count": null,
   "metadata": {},
   "outputs": [],
   "source": [
    "release = pd.read_csv(release_dates_url)"
   ]
  },
  {
   "cell_type": "code",
   "execution_count": null,
   "metadata": {},
   "outputs": [],
   "source": [
    "titles = pd.read_csv(titles_url)"
   ]
  },
  {
   "cell_type": "code",
   "execution_count": null,
   "metadata": {},
   "outputs": [],
   "source": [
    "locations = pd.read_csv(film_locations_url)"
   ]
  },
  {
   "cell_type": "code",
   "execution_count": null,
   "metadata": {},
   "outputs": [],
   "source": []
  },
  {
   "cell_type": "code",
   "execution_count": null,
   "metadata": {},
   "outputs": [],
   "source": []
  },
  {
   "cell_type": "code",
   "execution_count": null,
   "metadata": {},
   "outputs": [],
   "source": []
  },
  {
   "cell_type": "code",
   "execution_count": null,
   "metadata": {},
   "outputs": [],
   "source": []
  },
  {
   "cell_type": "code",
   "execution_count": null,
   "metadata": {},
   "outputs": [],
   "source": []
  },
  {
   "cell_type": "code",
   "execution_count": null,
   "metadata": {},
   "outputs": [],
   "source": []
  }
 ],
 "metadata": {
  "kernelspec": {
   "display_name": "Python 3",
   "language": "python",
   "name": "python3"
  },
  "language_info": {
   "codemirror_mode": {
    "name": "ipython",
    "version": 3
   },
   "file_extension": ".py",
   "mimetype": "text/x-python",
   "name": "python",
   "nbconvert_exporter": "python",
   "pygments_lexer": "ipython3",
   "version": "3.7.2"
  }
 },
 "nbformat": 4,
 "nbformat_minor": 2
}
