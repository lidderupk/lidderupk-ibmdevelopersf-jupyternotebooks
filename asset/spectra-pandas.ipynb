{
 "cells": [
  {
   "cell_type": "markdown",
   "metadata": {},
   "source": [
    "## Some Python if you need a quick refresher"
   ]
  },
  {
   "cell_type": "markdown",
   "metadata": {},
   "source": [
    "Let's look at some basic data structures in Python\n",
    "\n",
    "   - str (string)\n",
    "   - List (mutable, order maintained)\n",
    "   - Tuple (immutable)\n",
    "   - Set (unordered, unique)\n",
    "   - Dictionary (mutable, key-value pairs)\n",
    "\n",
    "    \n"
   ]
  },
  {
   "cell_type": "code",
   "execution_count": 38,
   "metadata": {},
   "outputs": [
    {
     "name": "stdout",
     "output_type": "stream",
     "text": [
      "length of the string: 7\n",
      "first character of the string: s\n",
      "last character of the string: a\n",
      "capitalize string:  Spectra\n",
      "uppper case string:  SPECTRA\n",
      "find tra in the string:  4\n"
     ]
    }
   ],
   "source": [
    "#this is a string (str)\n",
    "hackathon = \"spectra\"\n",
    "print('length of the string:', len(hackathon))\n",
    "print('first character of the string:', hackathon[0])\n",
    "print('last character of the string:', hackathon[-1])\n",
    "print('capitalize string: ', hackathon.capitalize())\n",
    "print('uppper case string: ', hackathon.upper())\n",
    "print('find tra in the string: ', hackathon.find('tra')) #start counting from 0\n",
    "# Many more methods available. Read the docs - https://docs.python.org/3/library/stdtypes.html#string-methods"
   ]
  },
  {
   "cell_type": "code",
   "execution_count": 39,
   "metadata": {},
   "outputs": [
    {
     "name": "stdout",
     "output_type": "stream",
     "text": [
      "number of states: 9\n",
      "first state:  Alabama\n",
      "last state:  Florida\n",
      "list contains California? True\n",
      "where is California in the list? 4\n",
      "list first three states: ['Alabama', 'Alaska', 'Arizona']\n",
      "list last three states: ['Connecticut', 'Delaware', 'Florida']\n",
      "filter list to only states starting with C: ['California', 'Colorado', 'Connecticut']\n",
      "filter list to only states starting with C: ['California', 'Colorado', 'Connecticut']\n"
     ]
    }
   ],
   "source": [
    "#this is a list\n",
    "states = [\"Alabama\", \"Alaska\", \"Arizona\", \"Arkansas\", \"California\", \"Colorado\", \"Connecticut\", \"Delaware\", \"Florida\"]\n",
    "print('number of states:', len(states))\n",
    "print('first state: ', states[0])\n",
    "print('last state: ', states[-1])\n",
    "print('list contains California?', 'California' in states)\n",
    "print('where is California in the list?', states.index('California'))\n",
    "print('list first three states:', states[:3])\n",
    "print('list last three states:', states[-3:])\n",
    "\n",
    "#more advanced\n",
    "print('filter list to only states starting with C:', list(filter(lambda x: x.startswith('C'),states)))\n",
    "print('filter list to only states starting with C:', [state for state in states if state.startswith('C')])\n",
    "# Many more methods available. Read the docs - https://docs.python.org/3/tutorial/datastructures.html"
   ]
  },
  {
   "cell_type": "markdown",
   "metadata": {},
   "source": [
    "## Data structures in Pandas! - Series and DataFrame"
   ]
  },
  {
   "cell_type": "code",
   "execution_count": null,
   "metadata": {},
   "outputs": [],
   "source": []
  }
 ],
 "metadata": {
  "kernelspec": {
   "display_name": "Python 3",
   "language": "python",
   "name": "python3"
  },
  "language_info": {
   "codemirror_mode": {
    "name": "ipython",
    "version": 3
   },
   "file_extension": ".py",
   "mimetype": "text/x-python",
   "name": "python",
   "nbconvert_exporter": "python",
   "pygments_lexer": "ipython3",
   "version": "3.7.2"
  }
 },
 "nbformat": 4,
 "nbformat_minor": 2
}
