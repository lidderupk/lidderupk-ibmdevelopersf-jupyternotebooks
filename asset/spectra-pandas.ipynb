{
 "cells": [
  {
   "cell_type": "markdown",
   "metadata": {},
   "source": [
    "## Some Python if you need a quick refresher"
   ]
  },
  {
   "cell_type": "markdown",
   "metadata": {},
   "source": [
    "Let's look at some basic data structures in Python\n",
    "\n",
    "   - str (string)\n",
    "   - List (mutable, order maintained)\n",
    "   - Tuple (immutable)\n",
    "   - Set (unordered, unique)\n",
    "   - Dictionary (mutable, key-value pairs)\n",
    "\n",
    "    \n"
   ]
  },
  {
   "cell_type": "code",
   "execution_count": null,
   "metadata": {},
   "outputs": [],
   "source": [
    "#this is a string (str)\n",
    "hackathon = \"spectra\"\n",
    "print('length of the string:', len(hackathon))\n",
    "print('first character of the string:', hackathon[0])\n",
    "print('last character of the string:', hackathon[-1])\n",
    "print('capitalize string: ', hackathon.capitalize())\n",
    "print('uppper case string: ', hackathon.upper())\n",
    "print('find tra in the string: ', hackathon.find('tra')) #start counting from 0\n",
    "#Many more methods available. Read the docs - https://docs.python.org/3/library/stdtypes.html#string-methods"
   ]
  },
  {
   "cell_type": "code",
   "execution_count": null,
   "metadata": {},
   "outputs": [],
   "source": [
    "#this is a list\n",
    "states = [\"Alabama\", \"Alaska\", \"Arizona\", \"Arkansas\", \"California\", \"Colorado\", \"Connecticut\", \"Delaware\", \"Florida\"]\n",
    "print('number of states:', len(states))\n",
    "print('first state: ', states[0])\n",
    "print('last state: ', states[-1])\n",
    "print('list contains California?', 'California' in states)\n",
    "print('where is California in the list?', states.index('California'))\n",
    "print('list first three states:', states[:3])\n",
    "print('list last three states:', states[-3:])\n",
    "\n",
    "#more advanced\n",
    "print('filter list to only states starting with C:', list(filter(lambda x: x.startswith('C'),states)))\n",
    "print('filter list to only states starting with C:', [state for state in states if state.startswith('C')])\n",
    "#Many more methods available. Read the docs - https://docs.python.org/3/tutorial/datastructures.html"
   ]
  },
  {
   "cell_type": "code",
   "execution_count": null,
   "metadata": {},
   "outputs": [],
   "source": [
    "#this is a dictionary. They are unordered, so first and last makes little sense\n",
    "states = {\n",
    "'AL': 'Alabama',\n",
    "'AK': 'Alaska',\n",
    "'AZ': 'Arizona',\n",
    "'AR': 'Arkansas',\n",
    "'CA' : 'California',\n",
    "'CO': 'Colorado',\n",
    "'CT': 'Connecticut',\n",
    "'DE': 'Delaware',\n",
    "'FL': 'Florida'\n",
    "}\n",
    "print('keys in states:', states.keys())\n",
    "print('values in states:', states.values())\n",
    "print('# states in dict:', len(states))\n",
    "print('find ca:', states['CA'])\n",
    "print('is FL in the list:', 'FL' in states)\n",
    "print('is Florida in the list: ', 'Florida' in states.values())\n",
    "#Many more methods available. Read the docs - https://docs.python.org/3.6/tutorial/datastructures.html#dictionaries"
   ]
  },
  {
   "cell_type": "markdown",
   "metadata": {},
   "source": [
    "## Data structures in Pandas - Series"
   ]
  },
  {
   "cell_type": "code",
   "execution_count": null,
   "metadata": {},
   "outputs": [],
   "source": [
    "import pandas as pd\n",
    "import numpy as np"
   ]
  },
  {
   "cell_type": "code",
   "execution_count": null,
   "metadata": {},
   "outputs": [],
   "source": [
    "#This is a series. Think of this as a list with an index!\n",
    "states = pd.Series([\"Alabama\", \"Alaska\", \"Arizona\", \"Arkansas\", \"California\", \"Colorado\", \"Connecticut\", \"Delaware\", \"Florida\"])\n",
    "states"
   ]
  },
  {
   "cell_type": "code",
   "execution_count": null,
   "metadata": {},
   "outputs": [],
   "source": [
    "#you can give the data your own index!\n",
    "states = [\"Alabama\", \"Alaska\", \"Arizona\", \"Arkansas\", \"California\", \"Colorado\", \"Connecticut\", \"Delaware\", \"Florida\"]\n",
    "abb = ['AL','AK','AZ','AR','CA','CO','CT','DE','FL']\n",
    "states = pd.Series(data=states, index=abb)\n",
    "states\n"
   ]
  },
  {
   "cell_type": "code",
   "execution_count": null,
   "metadata": {},
   "outputs": [],
   "source": [
    "#slice and dice\n",
    "print('first state:', states[0])\n",
    "print('first index:', states.index[0])\n",
    "print('\\n\\n')\n",
    "print('first three states:')\n",
    "print(states[0:3])\n",
    "print('\\n\\n')\n",
    "print('last three states:')\n",
    "print(states[-3:])"
   ]
  },
  {
   "cell_type": "code",
   "execution_count": null,
   "metadata": {},
   "outputs": [],
   "source": [
    "#you can create series out of comprehensions and anything else that returns an iterable\n",
    "fours = pd.Series([x**4 for x in range(6)])\n",
    "fours"
   ]
  },
  {
   "cell_type": "code",
   "execution_count": null,
   "metadata": {},
   "outputs": [],
   "source": [
    "#numpy has a wonderful random number generator that is useful in creating dummy data. Returns np.array\n",
    "rand = pd.Series(np.random.rand(5))\n",
    "rand\n"
   ]
  },
  {
   "cell_type": "markdown",
   "metadata": {},
   "source": [
    "## Data structures in Pandas - Dataframes"
   ]
  },
  {
   "cell_type": "code",
   "execution_count": null,
   "metadata": {},
   "outputs": [],
   "source": [
    "#dataframe is a like a table\n",
    "state_data = {\n",
    "    'abb':['AL','AK','AZ','AR','CA','CO','CT','DE','FL'],\n",
    "    'name':[\"Alabama\", \"Alaska\", \"Arizona\", \"Arkansas\", \"California\", \"Colorado\", \"Connecticut\", \"Delaware\", \"Florida\"],\n",
    "    'temp': np.random.rand(9)\n",
    "}\n",
    "df_state = pd.DataFrame(state_data)\n",
    "df_state"
   ]
  },
  {
   "cell_type": "code",
   "execution_count": null,
   "metadata": {},
   "outputs": [],
   "source": [
    "df = pd.DataFrame(data = np.random.randn(2,2), columns=['Temp', 'Humidity'])\n",
    "df"
   ]
  },
  {
   "cell_type": "code",
   "execution_count": null,
   "metadata": {},
   "outputs": [],
   "source": [
    "#the very cool thing about dataframes is that you can operate on them as a single unit. NO NEED TO ITERATE EXPLICITLY!\n",
    "df = df * 10\n",
    "df"
   ]
  },
  {
   "cell_type": "code",
   "execution_count": null,
   "metadata": {},
   "outputs": [],
   "source": [
    "#you can use apply method to perform a more complex operation. \n",
    "#remove the comment below and shift+tab+tab_tab inside the apply brackets to bring up the documentation. Yes, three tabs. See what each one does!\n",
    "\n",
    "#df.apply()"
   ]
  },
  {
   "cell_type": "code",
   "execution_count": null,
   "metadata": {},
   "outputs": [],
   "source": [
    "def add100(x):\n",
    "    return x + 100"
   ]
  },
  {
   "cell_type": "code",
   "execution_count": null,
   "metadata": {},
   "outputs": [],
   "source": [
    "#let's apply this function to \n",
    "df.apply(add100)"
   ]
  },
  {
   "cell_type": "code",
   "execution_count": null,
   "metadata": {},
   "outputs": [],
   "source": [
    "#notice that the original dataframe does not change. This can get tricky. \n",
    "#If you want to change the df, assign it to itself. Or some methods have inplace=True parameters to force change inplace\n",
    "df"
   ]
  },
  {
   "cell_type": "code",
   "execution_count": null,
   "metadata": {},
   "outputs": [],
   "source": [
    "#you can also use lambda or anonymous functions to do the same\n",
    "df.apply(lambda x: x+100)"
   ]
  },
  {
   "cell_type": "markdown",
   "metadata": {},
   "source": [
    "## Let's load in our data files!"
   ]
  },
  {
   "cell_type": "code",
   "execution_count": null,
   "metadata": {},
   "outputs": [],
   "source": [
    "casts_url = \"https://ibm.box.com/shared/static/569iue5znz5angfxaaojbd7olgegk0bz.csv\"\n",
    "release_dates_url = \"https://ibm.box.com/shared/static/fxu6rhfktvjs0uvgtbhjsp5g5k9qgjh1.csv\"\n",
    "titles_url = \"https://ibm.box.com/shared/static/cw3wqtzuljiyqz4kbuk26ojrrm9rzfow.csv\"\n",
    "film_locations_url = \"https://ibm.box.com/shared/static/kcot1vu0r1tusff85m5shrr7ehsee8np.csv\""
   ]
  },
  {
   "cell_type": "code",
   "execution_count": null,
   "metadata": {},
   "outputs": [],
   "source": [
    "# local only\n",
    "# casts = pd.read_csv('/Users/ulidder/Downloads/spectra-data/cast.csv')\n",
    "# release_dates = pd.read_csv('/Users/ulidder/Downloads/spectra-data/release_dates.csv')\n",
    "# titles = pd.read_csv('/Users/ulidder/Downloads/spectra-data/titles.csv')\n",
    "# locations = pd.read_csv('/Users/ulidder/Downloads/spectra-data/Film_Locations_in_San_Francisco.csv')"
   ]
  },
  {
   "cell_type": "code",
   "execution_count": null,
   "metadata": {},
   "outputs": [],
   "source": [
    "casts = pd.read_csv(casts_url)"
   ]
  },
  {
   "cell_type": "code",
   "execution_count": null,
   "metadata": {},
   "outputs": [],
   "source": [
    "release = pd.read_csv(release_dates_url)"
   ]
  },
  {
   "cell_type": "code",
   "execution_count": null,
   "metadata": {},
   "outputs": [],
   "source": [
    "titles = pd.read_csv(titles_url)"
   ]
  },
  {
   "cell_type": "code",
   "execution_count": null,
   "metadata": {},
   "outputs": [],
   "source": [
    "locations = pd.read_csv(film_locations_url)"
   ]
  },
  {
   "cell_type": "code",
   "execution_count": null,
   "metadata": {},
   "outputs": [],
   "source": [
    "#woh! that was smooth! Let's explore the casts dataset \n",
    "\n",
    "#how big is this dataset? shape returns a tuple. The first number is the number of rows and the second is the number of columns.\n",
    "#3.7M rows! not a bad start!\n",
    "print(casts.shape)"
   ]
  },
  {
   "cell_type": "code",
   "execution_count": null,
   "metadata": {},
   "outputs": [],
   "source": [
    "#what are the different columns in this dataframe\n",
    "casts.columns"
   ]
  },
  {
   "cell_type": "code",
   "execution_count": null,
   "metadata": {},
   "outputs": [],
   "source": [
    "#cool! What are some of the datatypes? Read object is mostly string\n",
    "casts.info()"
   ]
  },
  {
   "cell_type": "code",
   "execution_count": null,
   "metadata": {},
   "outputs": [],
   "source": [
    "#are there any null values? this takes a little time to go over 3.7M rows! Also only works for numerical data\n",
    "casts.describe()"
   ]
  },
  {
   "cell_type": "markdown",
   "metadata": {},
   "source": [
    "## Querying"
   ]
  },
  {
   "cell_type": "code",
   "execution_count": null,
   "metadata": {},
   "outputs": [],
   "source": [
    "#does slicing work here? well YES!\n",
    "print('first 10 rows:')\n",
    "casts[:10]"
   ]
  },
  {
   "cell_type": "code",
   "execution_count": null,
   "metadata": {},
   "outputs": [],
   "source": [
    "print('last 10 rows:')\n",
    "casts[-10:]"
   ]
  },
  {
   "cell_type": "code",
   "execution_count": null,
   "metadata": {},
   "outputs": [],
   "source": [
    "#cool deal, but there are other methods that are more popular to take a quick peek at the data\n",
    "casts.head()"
   ]
  },
  {
   "cell_type": "code",
   "execution_count": null,
   "metadata": {},
   "outputs": [],
   "source": [
    "casts.tail()"
   ]
  },
  {
   "cell_type": "code",
   "execution_count": null,
   "metadata": {},
   "outputs": [],
   "source": [
    "casts.sample()"
   ]
  },
  {
   "cell_type": "code",
   "execution_count": null,
   "metadata": {},
   "outputs": [],
   "source": [
    "casts.sample(5)"
   ]
  },
  {
   "cell_type": "code",
   "execution_count": null,
   "metadata": {},
   "outputs": [],
   "source": [
    "#this is great, but I want to get specific rows and columns. There are two very important methods to look up something in a dataframe"
   ]
  },
  {
   "cell_type": "markdown",
   "metadata": {},
   "source": [
    "## loc and iloc"
   ]
  },
  {
   "cell_type": "code",
   "execution_count": null,
   "metadata": {},
   "outputs": [],
   "source": [
    "#loc is used to look up by label\n",
    "#iloc is used to look up by index or location"
   ]
  },
  {
   "cell_type": "code",
   "execution_count": null,
   "metadata": {},
   "outputs": [],
   "source": [
    "#let's use iloc first. Get the first row with iloc. The general syntax for iloc is dataframe.iloc[rows,columns]\n",
    "casts.iloc[0]"
   ]
  },
  {
   "cell_type": "code",
   "execution_count": null,
   "metadata": {},
   "outputs": [],
   "source": [
    "#notice that returned a series. Another way to check is\n",
    "type(casts.iloc[0])"
   ]
  },
  {
   "cell_type": "code",
   "execution_count": null,
   "metadata": {},
   "outputs": [],
   "source": [
    "#now let's get the 5th and 6th rows. Remember numerical index is 0 based and also the second limit in the iloc index is excluded\n",
    "casts.iloc[5:7]"
   ]
  },
  {
   "cell_type": "markdown",
   "metadata": {},
   "source": [
    "### Exercise 1"
   ]
  },
  {
   "cell_type": "code",
   "execution_count": null,
   "metadata": {},
   "outputs": [],
   "source": [
    "#great, can you get the 100th and 101th row using the iloc method?"
   ]
  },
  {
   "cell_type": "markdown",
   "metadata": {},
   "source": [
    "-----"
   ]
  },
  {
   "cell_type": "code",
   "execution_count": null,
   "metadata": {},
   "outputs": [],
   "source": [
    "#that's wonderful. How do we get only the columns we need using iloc? Let's say we only want title column for the 5th and 6th row\n",
    "casts.iloc[5:7,0]"
   ]
  },
  {
   "cell_type": "code",
   "execution_count": null,
   "metadata": {},
   "outputs": [],
   "source": [
    "#notice we again got a series. To get a dataframe, we can speficy a range as the second parameter.\n",
    "casts.iloc[5:7, 0:1]"
   ]
  },
  {
   "cell_type": "code",
   "execution_count": null,
   "metadata": {},
   "outputs": [],
   "source": [
    "#What if we want title and year?\n",
    "casts.iloc[5:7,0:2]"
   ]
  },
  {
   "cell_type": "code",
   "execution_count": null,
   "metadata": {},
   "outputs": [],
   "source": [
    "#what if we want name and character?\n",
    "casts.iloc[5:7,[2,4]]"
   ]
  },
  {
   "cell_type": "markdown",
   "metadata": {},
   "source": [
    "### Exercise 2"
   ]
  },
  {
   "cell_type": "code",
   "execution_count": null,
   "metadata": {},
   "outputs": [],
   "source": [
    "#can you get title, year and character for the 200th and 300th rows?"
   ]
  },
  {
   "cell_type": "markdown",
   "metadata": {},
   "source": [
    "----"
   ]
  },
  {
   "cell_type": "code",
   "execution_count": null,
   "metadata": {},
   "outputs": [],
   "source": [
    "#let's try loc now. The general syntax remains the same dataframe.loc[rows,columns]. We now use labels instead of location or numerical index\n",
    "#let's get the first row again\n",
    "casts.loc[0]"
   ]
  },
  {
   "cell_type": "code",
   "execution_count": null,
   "metadata": {},
   "outputs": [],
   "source": [
    "#woh! why did that work? It just so happens that in this case, the label or the index is the same as the numerical location\n",
    "casts.index"
   ]
  },
  {
   "cell_type": "code",
   "execution_count": null,
   "metadata": {},
   "outputs": [],
   "source": [
    "#try it for the columns? It will give you an error. \n",
    "# casts.loc[0,0]"
   ]
  },
  {
   "cell_type": "code",
   "execution_count": null,
   "metadata": {},
   "outputs": [],
   "source": [
    "#now, let's get the title for the first two rows. notice in this case, the second argument is inclusive! Ya! Don't ask me why!\n",
    "casts.loc[0:1,'title']"
   ]
  },
  {
   "cell_type": "markdown",
   "metadata": {},
   "source": [
    "### Exercise 3"
   ]
  },
  {
   "cell_type": "code",
   "execution_count": null,
   "metadata": {},
   "outputs": [],
   "source": [
    "#grab the 200th and 201st rows with character and the n value"
   ]
  },
  {
   "cell_type": "code",
   "execution_count": null,
   "metadata": {},
   "outputs": [],
   "source": [
    "#also to note is that you can use dataframe[''] to select columns, but it is recommeneded to use the more explicit loc or iloc function\n",
    "casts['title'].head()"
   ]
  },
  {
   "cell_type": "code",
   "execution_count": null,
   "metadata": {},
   "outputs": [],
   "source": [
    "#that gave you a series. To get a dataframe, put another []\n",
    "casts[['title']].head()"
   ]
  },
  {
   "cell_type": "code",
   "execution_count": null,
   "metadata": {},
   "outputs": [],
   "source": [
    "#you can get multiple columns as follows\n",
    "casts[['year', 'title']].head()"
   ]
  },
  {
   "cell_type": "markdown",
   "metadata": {},
   "source": [
    "## Sorting"
   ]
  },
  {
   "cell_type": "code",
   "execution_count": null,
   "metadata": {},
   "outputs": [],
   "source": [
    "#use the sort_index method to sort the index\n",
    "print('current index:', casts.index)\n",
    "\n",
    "#let's change the index to year\n",
    "casts_new = casts.set_index(casts.year)\n",
    "print('new index:',casts_new.index)\n",
    "#notice that it is not sorted\n",
    "\n",
    "#sort_index\n",
    "casts_new.sort_index().head()"
   ]
  },
  {
   "cell_type": "code",
   "execution_count": null,
   "metadata": {},
   "outputs": [],
   "source": [
    "#to sort by value, you can use sort_values for dataframe\n",
    "casts.head()"
   ]
  },
  {
   "cell_type": "code",
   "execution_count": null,
   "metadata": {},
   "outputs": [],
   "source": [
    "casts.sort_values('title').head()"
   ]
  },
  {
   "cell_type": "markdown",
   "metadata": {},
   "source": [
    "## Exercise 4"
   ]
  },
  {
   "cell_type": "code",
   "execution_count": null,
   "metadata": {},
   "outputs": [],
   "source": [
    "#For the movie Straight Outta Compton, can you print the cast in alphabetical order, but only those members who have a n value\n",
    "soc = casts.loc[casts.title == 'Straight Outta Compton']\n",
    "soc = soc.loc[~soc.n.isnull()]\n",
    "#your turn"
   ]
  },
  {
   "cell_type": "code",
   "execution_count": null,
   "metadata": {},
   "outputs": [],
   "source": [
    "#what is the syntax to sort a series? Look up the syntax here and complete the code below ...\n",
    "#https://pandas.pydata.org/pandas-docs/stable/reference/series.html\n",
    "casts.loc[:,'title']"
   ]
  },
  {
   "cell_type": "markdown",
   "metadata": {},
   "source": [
    "--------"
   ]
  },
  {
   "cell_type": "markdown",
   "metadata": {},
   "source": [
    "## Conditional Lookups!"
   ]
  },
  {
   "cell_type": "markdown",
   "metadata": {},
   "source": [
    "### Okay! so we know how to select based on position and index, but how do you do conditional lookups? Actually, this is fairly simple!"
   ]
  },
  {
   "cell_type": "code",
   "execution_count": null,
   "metadata": {},
   "outputs": [],
   "source": [
    "#let's get all movies made after the year 2000. First we create a condition\n",
    "moviesafter2000 = casts.year > 2000\n",
    "\n",
    "#now let's grab the rows where this condition is true. I am getting the first five to keep the result small.\n",
    "casts.loc[moviesafter2000].head()\n"
   ]
  },
  {
   "cell_type": "code",
   "execution_count": null,
   "metadata": {},
   "outputs": [],
   "source": [
    "#we can still use the second argument for loc to only get selected columns\n",
    "casts.loc[moviesafter2000,['title', 'year', 'type']].head()"
   ]
  },
  {
   "cell_type": "code",
   "execution_count": null,
   "metadata": {},
   "outputs": [],
   "source": [
    "#we can use the shorter syntax as well and just do ...\n",
    "casts[moviesafter2000][['title', 'year', 'type']].head()"
   ]
  },
  {
   "cell_type": "markdown",
   "metadata": {},
   "source": [
    "### The loc version seems easier to decipher! Note that you cannot do conditional selecting with iloc"
   ]
  },
  {
   "cell_type": "markdown",
   "metadata": {},
   "source": [
    "## Exercise 5"
   ]
  },
  {
   "cell_type": "code",
   "execution_count": null,
   "metadata": {},
   "outputs": [],
   "source": [
    "#select all movies between 1940 and 1950\n"
   ]
  },
  {
   "cell_type": "markdown",
   "metadata": {},
   "source": [
    "## Exercise 6"
   ]
  },
  {
   "cell_type": "code",
   "execution_count": null,
   "metadata": {},
   "outputs": [],
   "source": [
    "#create a new dataframe with only actors and another with only actoresses "
   ]
  },
  {
   "cell_type": "markdown",
   "metadata": {},
   "source": [
    "-----"
   ]
  },
  {
   "cell_type": "markdown",
   "metadata": {},
   "source": [
    "## What if you have a more complicated query? Maybe you want on actors whose names start with Z? Series str to the rescue!"
   ]
  },
  {
   "cell_type": "code",
   "execution_count": null,
   "metadata": {},
   "outputs": [],
   "source": [
    "#you can use str on columns that are of object type and then perform any string operation on that column.\n",
    "#for example to convert all titles to lowercase, we can do\n",
    "print('original titles in the casts dataframe:',casts.title.head().values)\n",
    "\n",
    "#use str.lower to lower case the series. Just showing the top 5.\n",
    "casts.title.str.lower().head()\n"
   ]
  },
  {
   "cell_type": "markdown",
   "metadata": {},
   "source": [
    "### See what else you can do with str here: https://pandas.pydata.org/pandas-docs/stable/reference/series.html#string-handling"
   ]
  },
  {
   "cell_type": "code",
   "execution_count": null,
   "metadata": {},
   "outputs": [],
   "source": [
    "#you can combine multiple str functions, but have to convert each sub step to str\n",
    "#here, we first convert everything to lower case and then swapcase, that converts it back to upper case.\n",
    "casts.title.str.lower().str.swapcase().head()"
   ]
  },
  {
   "cell_type": "markdown",
   "metadata": {},
   "source": [
    "## Exercise 7"
   ]
  },
  {
   "cell_type": "code",
   "execution_count": null,
   "metadata": {},
   "outputs": [],
   "source": [
    "#your turn, can you print all moves that have the word batman in them? You might have to use str twice. Once to lower and once to find batman!"
   ]
  },
  {
   "cell_type": "markdown",
   "metadata": {},
   "source": [
    "## Another very important method used all the time is value_counts()"
   ]
  },
  {
   "cell_type": "code",
   "execution_count": null,
   "metadata": {},
   "outputs": [],
   "source": [
    "#so what does this method do? It counts the values. Hence value_counts()!\n",
    "#let's count the number of movies in the different years. We can use the titles dataframe now.\n",
    "titles.year.value_counts().head()"
   ]
  },
  {
   "cell_type": "markdown",
   "metadata": {},
   "source": [
    "## Charts and Plots!"
   ]
  },
  {
   "cell_type": "code",
   "execution_count": null,
   "metadata": {},
   "outputs": [],
   "source": [
    "#wow, that quite a jump from 2016 to 2017! How about we plot this? We will use the matplotlib library\n",
    "#the following line enabled the plot to be drawn inside the notebook\n",
    "%matplotlib inline"
   ]
  },
  {
   "cell_type": "code",
   "execution_count": null,
   "metadata": {},
   "outputs": [],
   "source": [
    "#matplotlib integrates with pandas library very well. You can just call the plot method on a dataframe and see what happens\n",
    "titles.plot()"
   ]
  },
  {
   "cell_type": "code",
   "execution_count": null,
   "metadata": {},
   "outputs": [],
   "source": [
    "#what!!!!! what just happened? Well, you will get into this situation very often. By default matplotlib takes the index\n",
    "#as the x axis. What is the index in the titles dataframe? Numbers!. No wonder this does not make sense!\n",
    "titles.index"
   ]
  },
  {
   "cell_type": "code",
   "execution_count": null,
   "metadata": {},
   "outputs": [],
   "source": [
    "#we will use value_counts and the right x axis to do this as follows\n",
    "titles.year.value_counts().plot()"
   ]
  },
  {
   "cell_type": "code",
   "execution_count": null,
   "metadata": {},
   "outputs": [],
   "source": [
    "#hmmm! something is still not right! What do you think is the problem?\n",
    "#well, it is drawing what we asked it to draw. The problem is that the index (years) is not sorted!! Let's fix that\n",
    "titles.year.value_counts().sort_index().plot()"
   ]
  },
  {
   "cell_type": "code",
   "execution_count": null,
   "metadata": {},
   "outputs": [],
   "source": [
    "#very cool! Third one's the charm! Your turn to use value_counts()"
   ]
  },
  {
   "cell_type": "markdown",
   "metadata": {},
   "source": [
    "## Exercise 8"
   ]
  },
  {
   "cell_type": "code",
   "execution_count": null,
   "metadata": {},
   "outputs": [],
   "source": [
    "# What are the ten most common movie names of all time?"
   ]
  },
  {
   "cell_type": "code",
   "execution_count": null,
   "metadata": {},
   "outputs": [],
   "source": [
    "# How many different movies have \"Hamlet\" in the title?"
   ]
  },
  {
   "cell_type": "code",
   "execution_count": null,
   "metadata": {},
   "outputs": [],
   "source": [
    "# Plot the hamlet releases by year"
   ]
  },
  {
   "cell_type": "code",
   "execution_count": null,
   "metadata": {},
   "outputs": [],
   "source": [
    "# What are the 11 most common character names in movie history?"
   ]
  },
  {
   "cell_type": "code",
   "execution_count": null,
   "metadata": {},
   "outputs": [],
   "source": [
    "# Who are the 10 people most often credited as \"Herself\" in film history?"
   ]
  },
  {
   "cell_type": "code",
   "execution_count": null,
   "metadata": {},
   "outputs": [],
   "source": [
    "# Who are the 10 people most often credited as \"Himself\" in film history?"
   ]
  },
  {
   "cell_type": "code",
   "execution_count": null,
   "metadata": {},
   "outputs": [],
   "source": [
    "# Which actors or actresses appeared in the most movies in the year 2018?"
   ]
  },
  {
   "cell_type": "code",
   "execution_count": null,
   "metadata": {},
   "outputs": [],
   "source": [
    "# How many people played themselves ?"
   ]
  },
  {
   "cell_type": "markdown",
   "metadata": {},
   "source": [
    "## Add and remove columns"
   ]
  },
  {
   "cell_type": "code",
   "execution_count": null,
   "metadata": {},
   "outputs": [],
   "source": [
    "#a lot of times, we want to summarize the data. For example, we might want to see the above chart by decades instead of years.\n",
    "#let's add a new column 'decade' to our dataframe. We will use a neat trick to create this column.Thanks Brandon!\n",
    "titles['decade'] = titles.year // 10 * 10"
   ]
  },
  {
   "cell_type": "code",
   "execution_count": null,
   "metadata": {},
   "outputs": [],
   "source": [
    "#so what does titles look like?\n",
    "titles.head()"
   ]
  },
  {
   "cell_type": "markdown",
   "metadata": {},
   "source": [
    "## Exercise 9"
   ]
  },
  {
   "cell_type": "code",
   "execution_count": null,
   "metadata": {},
   "outputs": [],
   "source": [
    "#can you now plot number of movies per decade?"
   ]
  },
  {
   "cell_type": "markdown",
   "metadata": {},
   "source": [
    "## Exercise 10"
   ]
  },
  {
   "cell_type": "code",
   "execution_count": null,
   "metadata": {},
   "outputs": [],
   "source": [
    "#how about do a bar chart instead? Look up help for plot(). \n"
   ]
  },
  {
   "cell_type": "markdown",
   "metadata": {},
   "source": [
    "-------"
   ]
  },
  {
   "cell_type": "code",
   "execution_count": null,
   "metadata": {},
   "outputs": [],
   "source": [
    "#now that we are finished with decade, we can delete this column by using the drop method. Again showing first 5 for brevity\n",
    "titles.drop(['decade'], axis=1).head()\n",
    "#what is the axis? and why do we need it? Read the docs"
   ]
  },
  {
   "cell_type": "code",
   "execution_count": null,
   "metadata": {},
   "outputs": [],
   "source": [
    "#let's look at titles now\n",
    "titles.head()"
   ]
  },
  {
   "cell_type": "code",
   "execution_count": null,
   "metadata": {},
   "outputs": [],
   "source": [
    "#wait a second! what happened? I thought we deleted the column. Remember, most of the methods return a new dataframe. For our own good!\n",
    "#use the inplace argument to make changes in place\n",
    "titles.drop(['decade'], axis=1, inplace=True)\n",
    "titles.head()"
   ]
  },
  {
   "cell_type": "markdown",
   "metadata": {},
   "source": [
    "## What about the quality of our data?"
   ]
  },
  {
   "cell_type": "code",
   "execution_count": null,
   "metadata": {},
   "outputs": [],
   "source": [
    "#let's run describe again, but for all columns this time. Can you figure out what parameter ensures we get results for all columns \n",
    "#and not just numerical columns?\n",
    "casts.describe(include='all')"
   ]
  },
  {
   "cell_type": "markdown",
   "metadata": {},
   "source": [
    "### We can see there are missing values for n. The rest of the columns look good! There is also a handy isnull function to figure out missing values in a dataframe"
   ]
  },
  {
   "cell_type": "code",
   "execution_count": null,
   "metadata": {},
   "outputs": [],
   "source": [
    "#let's fun isnull on casts column\n",
    "casts.n.isnull()"
   ]
  },
  {
   "cell_type": "code",
   "execution_count": null,
   "metadata": {},
   "outputs": [],
   "source": [
    "#woh! that happened? Were you expecting a number? isnull() goes through all the rows and returns True if the value is missing and False otherwise.\n",
    "#so how do we count? In python, False is a 0 and True is a 1. So we can just call the sum method!\n",
    "casts.n.isnull().sum()"
   ]
  },
  {
   "cell_type": "code",
   "execution_count": null,
   "metadata": {},
   "outputs": [],
   "source": [
    "#you can also run isnull on the whole dataframe at once!\n",
    "casts.isnull()"
   ]
  },
  {
   "cell_type": "code",
   "execution_count": null,
   "metadata": {},
   "outputs": [],
   "source": [
    "#not very useful. Let's sum again!\n",
    "casts.isnull().sum()"
   ]
  },
  {
   "cell_type": "markdown",
   "metadata": {},
   "source": [
    "### Great! so how do we deal with null values? There are quite a few methods in pandas to help with this problem. I am leaving it up to the reader to read the docs on these.\n",
    "https://pandas.pydata.org/pandas-docs/stable/user_guide/missing_data.html\n",
    "\n",
    "- fillna() with method=''\n",
    "- ffill()\n",
    "- bfill()\n",
    "- interpolate()\n",
    "\n",
    "### There is also dropna to drop rows and columns with missing data"
   ]
  },
  {
   "cell_type": "markdown",
   "metadata": {},
   "source": [
    "## We have learned quite a few tricks so far. See if you can complete these exercises:"
   ]
  },
  {
   "cell_type": "markdown",
   "metadata": {},
   "source": [
    "## Exercise 11"
   ]
  },
  {
   "cell_type": "code",
   "execution_count": null,
   "metadata": {},
   "outputs": [],
   "source": [
    "# look up all movies with Jamie Foxx"
   ]
  },
  {
   "cell_type": "code",
   "execution_count": null,
   "metadata": {},
   "outputs": [],
   "source": [
    "# Look up all movies that end with Rings or rings or RINGS"
   ]
  },
  {
   "cell_type": "code",
   "execution_count": null,
   "metadata": {},
   "outputs": [],
   "source": [
    "# Look up all moves that have the word “park” in them"
   ]
  },
  {
   "cell_type": "code",
   "execution_count": null,
   "metadata": {},
   "outputs": [],
   "source": [
    "# What is the most popular cast name"
   ]
  },
  {
   "cell_type": "code",
   "execution_count": null,
   "metadata": {},
   "outputs": [],
   "source": [
    "# How many different characters was this name used for ?"
   ]
  },
  {
   "cell_type": "code",
   "execution_count": null,
   "metadata": {},
   "outputs": [],
   "source": [
    "# Who is Bess Flowers?"
   ]
  },
  {
   "cell_type": "code",
   "execution_count": null,
   "metadata": {},
   "outputs": [],
   "source": [
    "%%html\n",
    "<h1>Bess Flowers</h1>\n",
    "<img src=\"https://upload.wikimedia.org/wikipedia/en/4/43/Stooge053Bessflowers.jpg\"></img>\n",
    "\n"
   ]
  },
  {
   "cell_type": "code",
   "execution_count": null,
   "metadata": {},
   "outputs": [],
   "source": [
    "#we can even plot two charts in one\n",
    "cast[cast.name == 'Jamie Foxx'].plot(x='year',y='n', kind='scatter', color='r', label='Jammie Foxx')\n",
    "cast[cast.name == 'Chris Pratt'].plot(x='year',y='n', kind='scatter', color='g', ax = ax1, label='Chris Pratt')\n"
   ]
  },
  {
   "cell_type": "markdown",
   "metadata": {},
   "source": [
    "## casts and location dataframes have similar infomation, is there a way to SQL JOIN them? Why, yes! Thanks for asking!"
   ]
  },
  {
   "cell_type": "code",
   "execution_count": null,
   "metadata": {},
   "outputs": [],
   "source": [
    "print(casts.columns)\n",
    "print(locations.columns)"
   ]
  },
  {
   "cell_type": "code",
   "execution_count": null,
   "metadata": {},
   "outputs": [],
   "source": [
    "#looks like there might be common information between casts and locations. Let's see what this is\n",
    "df_merge = casts.merge(locations,left_on=['title', 'year'], right_on=['Title','Release Year'], how='inner')"
   ]
  },
  {
   "cell_type": "code",
   "execution_count": null,
   "metadata": {},
   "outputs": [],
   "source": [
    "df_merge.shape"
   ]
  },
  {
   "cell_type": "code",
   "execution_count": null,
   "metadata": {},
   "outputs": [],
   "source": [
    "df_merge.columns"
   ]
  },
  {
   "cell_type": "code",
   "execution_count": null,
   "metadata": {},
   "outputs": [],
   "source": [
    "# what are the 10 most popular locations in SF?\n",
    "df_merge.loc[:,['title', 'name', 'year', 'Locations']].Locations.value_counts().head(10)"
   ]
  },
  {
   "cell_type": "code",
   "execution_count": null,
   "metadata": {},
   "outputs": [],
   "source": [
    "#what are the 10 most popular locations in the last five years?\n",
    "lastfiveyears = (df_merge.year < 2019) & (df_merge.year > 2014)\n",
    "df_merge.loc[lastfiveyears, 'Locations'].value_counts().head()"
   ]
  },
  {
   "cell_type": "markdown",
   "metadata": {},
   "source": [
    "## We can use groupby - a very powerful idea!"
   ]
  },
  {
   "cell_type": "code",
   "execution_count": null,
   "metadata": {},
   "outputs": [],
   "source": [
    "#we also want movie names\n",
    "df_merge_year_sorted = df_merge.loc[lastfiveyears].sort_values(['year','name'], ascending=False)\n",
    "df_merge_year_sorted.groupby(['year', 'name'])\n"
   ]
  },
  {
   "cell_type": "code",
   "execution_count": null,
   "metadata": {},
   "outputs": [],
   "source": [
    "#what happened? the groupby method returns a DataFrameGroupBy. We now need to reduce it. \n",
    "df_merge_year_sorted.groupby(['year', 'name','Locations'])[['Locations']].count().sort_index(0, ascending=False).head()"
   ]
  },
  {
   "cell_type": "markdown",
   "metadata": {},
   "source": [
    "## Exercise 12"
   ]
  },
  {
   "cell_type": "code",
   "execution_count": null,
   "metadata": {},
   "outputs": [],
   "source": [
    "#your turn! can you find all the movies shot on the Golden Gate bridge?"
   ]
  },
  {
   "cell_type": "code",
   "execution_count": null,
   "metadata": {},
   "outputs": [],
   "source": [
    "#how about plot the number of movies shot on the Golden Gate Bridge over time and how that compares to the Mission?"
   ]
  },
  {
   "cell_type": "code",
   "execution_count": null,
   "metadata": {},
   "outputs": [],
   "source": [
    "## How many leading (n=1) roles were available to actors, and how many to actresses, in each year of the 1950s?\n",
    "# First, query by year\n",
    "# Second, use group by to group by title and n=1\n",
    "# use size to reduce\n"
   ]
  },
  {
   "cell_type": "code",
   "execution_count": null,
   "metadata": {},
   "outputs": [],
   "source": [
    "#how many actors in “lord of the rings”\n",
    "lotr = cast[cast.title.str.lower().str.contains('lord of the ring')]\n",
    "lotr.groupby(['title'])[['n']].count()"
   ]
  }
 ],
 "metadata": {
  "kernelspec": {
   "display_name": "Python 3",
   "language": "python",
   "name": "python3"
  },
  "language_info": {
   "codemirror_mode": {
    "name": "ipython",
    "version": 3
   },
   "file_extension": ".py",
   "mimetype": "text/x-python",
   "name": "python",
   "nbconvert_exporter": "python",
   "pygments_lexer": "ipython3",
   "version": "3.7.2"
  }
 },
 "nbformat": 4,
 "nbformat_minor": 2
}
